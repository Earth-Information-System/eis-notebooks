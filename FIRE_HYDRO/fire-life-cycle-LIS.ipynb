{
 "cells": [
  {
   "cell_type": "markdown",
   "id": "6a3928a5",
   "metadata": {},
   "source": [
    "<div class=\"container\" style=\"width: 100%; height: 200px; overflow: hidden; text-align: left\">\n",
    "    <!-- image source: ??????? -->\n",
    "<!--     <img src=\"../images/center-pivot-irrigation-aerial.png\" style=\"opacity: 0.4; margin: -350px; object-fit: fill;\"></img> -->\n",
    "    <div class=\"title-text\" style=\"color: black; position: absolute; left: 16px; top: 20%; font-size: 3em; font-weight: bold;\">\n",
    "        Life Cycle of a Fire\n",
    "    </div>\n",
    "    <br>\n",
    "    <div style=\"color: black; position: absolute; left: 20px; top: 50%; font-size: 1.5em; font-weight: bold;\">\n",
    "        NASA EIS Transdisciplinary Science from Pre-Fire to Post-Fire\n",
    "    </div>\n",
    "</div>"
   ]
  },
  {
   "cell_type": "markdown",
   "id": "36c9e951",
   "metadata": {},
   "source": [
    "## Introduction\n",
    "\n",
    "Fires are an integral part of the Earth system and have a large human dimension. Society's interaction with the Earth system affects fire risk, fire spread, and fire impacts (e.g. property destruction, emissions, mud slides). NASA data products and models provide real-time information on active fires, smoke, air quality, and forecasts of changing fire weather and seasonal fire risk.\n",
    "\n",
    "EIS provides a platform for collaborative analysis of and decision support for pre-fire risk, active fire situational awareness, and managing post-fire impacts. The full potential of these individual efforts are realized through the EIS collaborative framework to support new transdisciplinary connections and fire-related management activities.\n",
    "\n",
    "## Fires in Western US\n",
    "\n",
    "The Western United States is experiencing an increase of catastrophic wildfires. While fires historically constituted an important rangeland disturbance process in the semi-arid ecosystems of the Western US, climate change and intensifying droughts have increased the frequency and vigor of wildfire occurrences.\n",
    "\n",
    "\n",
    "In this notebook we explore impacts on vegetation due to fires in Western US, using evapotranspiration data from OpenET product and that modeled using [NASA's Land Information System](https://lis.gsfc.nasa.gov/) (LIS) modelling framework."
   ]
  },
  {
   "cell_type": "markdown",
   "id": "34a56555",
   "metadata": {},
   "source": [
    "<!-- ## Overview of LIS Simulations\n",
    "\n",
    "| Name      | Resolution | Run Period | Land Surface Model | Data Assimilated                                                    | Meteorological Forcing |\n",
    "|-----------|------------|------------|--------------------|---------------------------------------------------------------------|------------------------|\n",
    "| Open Loop | 10km       | 2001-2021  | NoahMP-4.0.1       | None                                                                | GPM IMERG              |\n",
    "| Multi-DA  | 10km       | 2001-2021  | NoahMP-4.0.1       | Leaf Area Index (MODIS), Terrestrial Water Storage (GRACE/GRACE-FO) | GPM IMERG              |\n",
    "\n",
    "<br> -->"
   ]
  },
  {
   "cell_type": "markdown",
   "id": "6faeab6c",
   "metadata": {},
   "source": [
    "<!-- <center>\n",
    "    <img src=\"../images/GWpumping_StoryMap_simulation_overview.png\" style=\"width: 50%; border-radius:10px\">\n",
    "</center> -->"
   ]
  },
  {
   "cell_type": "code",
   "execution_count": null,
   "id": "06e517a0",
   "metadata": {
    "tags": []
   },
   "outputs": [],
   "source": [
    "############################################\n",
    "#              Import libraries            #\n",
    "############################################\n",
    "\n",
    "# import s3fs\n",
    "# import intake\n",
    "# from eis_freshwater_py.config import intake_catalog_path\n",
    "# from eis_freshwater_py.lis_output import add_latlon_coords, clip_to_shape\n",
    "# import geopandas as gpd\n",
    "# from matplotlib import pyplot as plt\n",
    "# import numpy as np\n",
    "# import pandas as pd\n",
    "# import xarray as xr\n",
    "import rioxarray as rxr\n",
    "# import holoviews as hv\n",
    "import geoviews as gv\n",
    "import panel as pn\n",
    "# import pandas as pd\n",
    "\n",
    "from holoviews import opts\n",
    "# from holoviews.streams import Stream, param\n",
    "# import datashader\n",
    "# from holoviews.operation.datashader import rasterize\n",
    "\n",
    "import hvplot.pandas\n",
    "# import hvplot.xarray\n",
    "\n",
    "import pandas as pd\n",
    "# import pandas_bokeh\n",
    "# import matplotlib.pyplot as plt\n",
    "# import matplotlib.dates as dts\n",
    "# from matplotlib.patches import Patch\n",
    "# from matplotlib.lines import Line2D\n",
    "# import numpy as np \n",
    "\n",
    "# show/suppress runtime warnings\n",
    "import warnings\n",
    "# uncomment next line to suppress runtime warnings (USE DURING DEMO)\n",
    "warnings.filterwarnings('ignore')\n",
    "\n",
    "# s3 = s3fs.S3FileSystem(anon=False)\n",
    "# hv.extension('bokeh', logo=False)"
   ]
  },
  {
   "cell_type": "markdown",
   "id": "a881eb0e",
   "metadata": {},
   "source": [
    "## Is post-fire vegetation response captured by LSM assimilating remote sensing observed disturbances?"
   ]
  },
  {
   "cell_type": "code",
   "execution_count": null,
   "id": "2631d03b",
   "metadata": {
    "tags": []
   },
   "outputs": [],
   "source": [
    "## LIS processed tiffs\n",
    "map_overlay =  gv.tile_sources.EsriImagery  \n",
    "\n",
    "et_map_opts = opts.Image(width=400, height=400, cmap='YlGn',\n",
    "                                   colorbar=True, clim=(0, 0.01), clabel='Annual ET (mm)',\n",
    "                                   tools=['hover'])\n",
    "\n",
    "etimg20 = gv.load_tiff(\"./DATA/lis_et2020.tiff\", nan_nodata=True)\n",
    "gv.tile_sources.OSM() * etimg20.opts(et_map_opts).opts(title=\"LIS-ET WY2020 (mm)\") * map_overlay\n",
    "# etimg20\n",
    "\n",
    "# etimg21 = gv.load_tiff(\"./DATA/lis_et2021.tiff\", nan_nodata=True)\n",
    "# gv.tile_sources.OSM() * etimg21.opts(et_map_opts).opts(title=\"LIS-ET WY2021 (mm)\") * map_overlay\n",
    "# etimg21\n",
    "\n",
    "map_row = pn.Row(pn.Column(etimg20))\n",
    "\n",
    "pn.Column(  map_row)"
   ]
  },
  {
   "cell_type": "code",
   "execution_count": null,
   "id": "9eb28c88",
   "metadata": {},
   "outputs": [],
   "source": [
    "## ET suppression and Burn Scars\n",
    "\n",
    "map_overlay =  gv.tile_sources.EsriImagery  \n",
    "WD = 380\n",
    "HT = 380\n",
    "etsupp_map_opts = opts.Image(width=WD, height=HT, cmap='coolwarm_r',\n",
    "                                   colorbar=True, clim=(-150,150), clabel='ET Change (mm)',\n",
    "                                   tools=['hover'])\n",
    "tvegsupp_map_opts = opts.Image(width=WD, height=HT, cmap='coolwarm_r',\n",
    "                                   colorbar=True, clim=(-150,150), clabel='TVeg Change (mm)',\n",
    "                                   tools=['hover'])\n",
    "gppsupp_map_opts = opts.Image(width=WD, height=HT, cmap='coolwarm_r',\n",
    "                                   colorbar=True, clim=(-600,600), clabel='GPP Change (mm)',\n",
    "                                   tools=['hover'])\n",
    "mtbs_map_opts = opts.Image(width=WD, height=HT, cmap='inferno_r',\n",
    "                                   colorbar=True, clim=(0,5), clabel='Severity',\n",
    "                                   tools=['hover'])\n",
    "### Total ET\n",
    "et20 = rxr.open_rasterio(\"./DATA/lis_et2020_CA.tiff\", masked=True).squeeze()\n",
    "et21 = rxr.open_rasterio(\"./DATA/lis_et2021_CA.tiff\", masked=True).squeeze()\n",
    "etsupp = (et21 - et20)*86400 #/et20 #/(geotiff_da)\n",
    "etsuppDS = gv.Dataset(etsupp) #_ds, ['x', 'y'], 'et')\n",
    "etsuppimg = etsuppDS.to(gv.Image)\n",
    "gv.tile_sources.OSM() * etsuppimg.opts(etsupp_map_opts).opts(title=\"LIS-ET Suppression WY21-20\") #* map_overlay\n",
    "\n",
    "### TVEG\n",
    "et20 = rxr.open_rasterio(\"./DATA/lis_tveg2020_CA.tiff\", masked=True).squeeze()\n",
    "et21 = rxr.open_rasterio(\"./DATA/lis_tveg2021_CA.tiff\", masked=True).squeeze()\n",
    "etsupp = (et21 - et20)*86400 #/et20 #/(geotiff_da)\n",
    "etsuppDS = gv.Dataset(etsupp) #_ds, ['x', 'y'], 'et')\n",
    "tvegsuppimg = etsuppDS.to(gv.Image)\n",
    "gv.tile_sources.OSM() * tvegsuppimg.opts(tvegsupp_map_opts).opts(title=\"LIS-TVeg Suppression WY21-20\") #* map_overlay\n",
    "\n",
    "### GPP\n",
    "# et20 = rxr.open_rasterio(\"./DATA/lis_gpp2020.tiff\", masked=True).squeeze()\n",
    "# et21 = rxr.open_rasterio(\"./DATA/lis_gpp2021.tiff\", masked=True).squeeze()\n",
    "# etsupp = (et21 - et20)*86400 #/et20 #/(geotiff_da)\n",
    "# etsuppDS = gv.Dataset(etsupp) #_ds, ['x', 'y'], 'et')\n",
    "# gppsuppimg = etsuppDS.to(gv.Image)\n",
    "# gv.tile_sources.OSM() * gppsuppimg.opts(gppsupp_map_opts).opts(title=\"LIS-GPP Suppression WY21-20\") #* map_overlay\n",
    "\n",
    "\n",
    "mtbs20 = gv.load_tiff(\"./DATA/mtbs2020_CA.tiff\", nan_nodata=True)\n",
    "gv.tile_sources.OSM() *mtbs20.opts(mtbs_map_opts).opts(title=\"MTBS Burn Severity 2020\") # * map_overlay\n",
    "\n",
    "\n",
    "\n",
    "map_row = pn.Row(pn.Column(etsuppimg),\n",
    "                 pn.Column(tvegsuppimg),\n",
    "#                  pn.Column(gppsuppimg),\n",
    "                 pn.Column(mtbs20)\n",
    "                )\n",
    "\n",
    "pn.Column(map_row)"
   ]
  },
  {
   "cell_type": "markdown",
   "id": "5ff7b7a8",
   "metadata": {},
   "source": [
    "## Conclusions\n",
    "\n",
    "* Recovery of vegetation from fire disturbances is a complex interplay of climate conditions, landcover, and burn severity.\n",
    "\n",
    "* Under drought conditions, grasslands are impacted the most while forests can sustain damage even in near normal or wet conditions. \n",
    "\n",
    "\n",
    "* Action items for hydrologic modeling community and fire-managers – recovery assessment needs to incorporate vegetation response to climate disturbances"
   ]
  },
  {
   "cell_type": "code",
   "execution_count": null,
   "id": "67062f44",
   "metadata": {
    "jupyter": {
     "source_hidden": true
    }
   },
   "outputs": [],
   "source": []
  }
 ],
 "metadata": {
  "kernelspec": {
   "display_name": "Python 3 (ipykernel)",
   "language": "python",
   "name": "python3"
  },
  "language_info": {
   "codemirror_mode": {
    "name": "ipython",
    "version": 3
   },
   "file_extension": ".py",
   "mimetype": "text/x-python",
   "name": "python",
   "nbconvert_exporter": "python",
   "pygments_lexer": "ipython3",
   "version": "3.10.8"
  }
 },
 "nbformat": 4,
 "nbformat_minor": 5
}
